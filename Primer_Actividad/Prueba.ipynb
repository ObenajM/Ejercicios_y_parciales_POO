{
 "cells": [
  {
   "cell_type": "code",
   "execution_count": 4,
   "metadata": {},
   "outputs": [
    {
     "name": "stdout",
     "output_type": "stream",
     "text": [
      "Las edades son: Alberto= 6.0, Juan= 9, Ana= 12.0, Mamá= 27.0\n"
     ]
    }
   ],
   "source": [
    "Edad_Juan=9\n",
    "Ed_Alber=2*Edad_Juan/3;\n",
    "Ed_Ana=4*Edad_Juan/3;\n",
    "Ed_Mama=Edad_Juan+Ed_Alber+Ed_Ana;\n",
    "print(\"Las edades son: Alberto= {}, Juan= {}, Ana= {}, Mamá= {}\".format(Ed_Alber,Edad_Juan,Ed_Ana,Ed_Mama))"
   ]
  }
 ],
 "metadata": {
  "kernelspec": {
   "display_name": "Python 3",
   "language": "python",
   "name": "python3"
  },
  "language_info": {
   "codemirror_mode": {
    "name": "ipython",
    "version": 3
   },
   "file_extension": ".py",
   "mimetype": "text/x-python",
   "name": "python",
   "nbconvert_exporter": "python",
   "pygments_lexer": "ipython3",
   "version": "3.10.4"
  }
 },
 "nbformat": 4,
 "nbformat_minor": 2
}
